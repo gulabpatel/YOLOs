{
  "nbformat": 4,
  "nbformat_minor": 0,
  "metadata": {
    "colab": {
      "name": "Convert YOLOv6 into ONNX for Inference.ipynb",
      "provenance": [],
      "include_colab_link": true
    },
    "kernelspec": {
      "name": "python3",
      "display_name": "Python 3"
    },
    "language_info": {
      "name": "python"
    },
    "accelerator": "GPU",
    "gpuClass": "standard"
  },
  "cells": [
    {
      "cell_type": "markdown",
      "metadata": {
        "id": "view-in-github",
        "colab_type": "text"
      },
      "source": [
        "<a href=\"https://colab.research.google.com/github/gulabpatel/YOLOs/blob/main/YOLO_Optimization/Convert_YOLOv6_into_ONNX_for_Inference.ipynb\" target=\"_parent\"><img src=\"https://colab.research.google.com/assets/colab-badge.svg\" alt=\"Open In Colab\"/></a>"
      ]
    },
    {
      "cell_type": "code",
      "execution_count": null,
      "metadata": {
        "id": "AriCogtJgh5i"
      },
      "outputs": [],
      "source": [
        "!git clone https://github.com/meituan/YOLOv6\n",
        "%cd YOLOv6\n",
        "!pip3 install -r requirements.txt"
      ]
    },
    {
      "cell_type": "markdown",
      "source": [
        "# Convert to ONNX\n",
        "Select the model version and input size. Default: YOLOV6s (640x480)"
      ],
      "metadata": {
        "id": "8bnlYIWUgwIL"
      }
    },
    {
      "cell_type": "code",
      "source": [
        "%cd /content/YOLOv6\n",
        "!pip3 install onnx>=1.10.0\n",
        "model = 'yolov6s' #@param [\"yolov6s\", \"yolov6t\", \"yolov6n\"]\n",
        "input_width = 1280 #@param {type:\"slider\", min:32, max:4096, step:32}\n",
        "input_height = 768 #@param {type:\"slider\", min:32, max:4096, step:32}\n",
        "\n",
        "import os.path\n",
        "torch_model_name = f'{model}.pt'\n",
        "if not os.path.exists(torch_model_name):\n",
        "  !wget https://github.com/meituan/YOLOv6/releases/download/0.1.0/{torch_model_name}\n",
        "\n",
        "\n",
        "!python3 deploy/ONNX/export_onnx.py --weights {torch_model_name} --img {input_height} {input_width} --batch 1"
      ],
      "metadata": {
        "colab": {
          "base_uri": "https://localhost:8080/"
        },
        "id": "wLbtli0bg3Tu",
        "outputId": "d8c17ce5-f44c-430d-86f2-8ddcfa29a035"
      },
      "execution_count": null,
      "outputs": [
        {
          "output_type": "stream",
          "name": "stdout",
          "text": [
            "/content/YOLOv6\n",
            "Namespace(batch_size=1, conf_thres=0.25, device='0', end2end=False, half=False, img_size=[768, 1280], inplace=False, iou_thres=0.45, max_wh=None, simplify=False, topk_all=100, weights='yolov6s.pt', with_preprocess=False)\n",
            "Loading checkpoint from yolov6s.pt\n",
            "\n",
            "Fusing model...\n",
            "/usr/local/lib/python3.7/dist-packages/torch/functional.py:568: UserWarning: torch.meshgrid: in an upcoming release, it will be required to pass the indexing argument. (Triggered internally at  ../aten/src/ATen/native/TensorShape.cpp:2228.)\n",
            "  return _VF.meshgrid(tensors, **kwargs)  # type: ignore[attr-defined]\n",
            "\n",
            "Starting to export ONNX...\n",
            "/content/YOLOv6/yolov6/models/effidehead.py:76: TracerWarning: Converting a tensor to a Python boolean might cause the trace to be incorrect. We can't record the data flow of Python values, so this value will be treated as a constant in the future. This means that the trace might not generalize to other inputs!\n",
            "  if self.grid[i].shape[2:4] != y.shape[2:4]:\n",
            "ONNX export success, saved as yolov6s.onnx\n",
            "\n",
            "Export complete (6.36s)\n"
          ]
        }
      ]
    },
    {
      "cell_type": "markdown",
      "source": [
        "## Download ONNX model"
      ],
      "metadata": {
        "id": "DEEyxmEFiMse"
      }
    },
    {
      "cell_type": "code",
      "source": [
        "from google.colab import drive\n",
        "drive.mount('/content/drive')"
      ],
      "metadata": {
        "id": "DsQh9LB3amBW",
        "outputId": "775923d3-94c4-4764-cfc8-e2e06d588f99",
        "colab": {
          "base_uri": "https://localhost:8080/"
        }
      },
      "execution_count": null,
      "outputs": [
        {
          "output_type": "stream",
          "name": "stdout",
          "text": [
            "Mounted at /content/drive\n"
          ]
        }
      ]
    },
    {
      "cell_type": "code",
      "source": [
        "import shutil"
      ],
      "metadata": {
        "id": "hyV82jcBbNhi"
      },
      "execution_count": null,
      "outputs": []
    },
    {
      "cell_type": "code",
      "source": [
        "shutil.copy(\"/content/YOLOv6/yolov6s.onnx\",\"/content/drive/MyDrive/YOLO\")"
      ],
      "metadata": {
        "id": "5T4qou4ZbP_6",
        "outputId": "dc4b492e-1357-4bb1-e4d2-83d6c726e6ce",
        "colab": {
          "base_uri": "https://localhost:8080/",
          "height": 35
        }
      },
      "execution_count": null,
      "outputs": [
        {
          "output_type": "execute_result",
          "data": {
            "text/plain": [
              "'/content/drive/MyDrive/YOLO/yolov6s.onnx'"
            ],
            "application/vnd.google.colaboratory.intrinsic+json": {
              "type": "string"
            }
          },
          "metadata": {},
          "execution_count": 7
        }
      ]
    },
    {
      "cell_type": "code",
      "source": [
        "%cd /content/YOLOv6\n",
        "from google.colab import files\n",
        "\n",
        "files.download(f'{model}.onnx')"
      ],
      "metadata": {
        "id": "GVCq8WJfiMK2"
      },
      "execution_count": null,
      "outputs": []
    }
  ]
}